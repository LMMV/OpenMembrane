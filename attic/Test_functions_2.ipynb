{
 "cells": [
  {
   "cell_type": "code",
   "execution_count": 1,
   "metadata": {
    "tags": []
   },
   "outputs": [
    {
     "data": {
      "application/vnd.jupyter.widget-view+json": {
       "model_id": "e5ed8e7ee1c942f8addac25365737f01",
       "version_major": 2,
       "version_minor": 0
      },
      "text/plain": []
     },
     "metadata": {},
     "output_type": "display_data"
    }
   ],
   "source": [
    "import molsysmt as msm\n",
    "import openmm as mm\n",
    "from openmm import unit as u\n",
    "import numpy as np\n",
    "from matplotlib import pyplot as plt"
   ]
  },
  {
   "cell_type": "code",
   "execution_count": 2,
   "metadata": {
    "tags": []
   },
   "outputs": [],
   "source": [
    "upper_composition={'POPC':100}\n",
    "lower_composition={'POPC':100}"
   ]
  },
  {
   "cell_type": "code",
   "execution_count": 3,
   "metadata": {
    "tags": []
   },
   "outputs": [],
   "source": [
    "surface_area = {'POPC':68.3*u.angstroms**2} \n",
    "radius = {'POPC':4.66*u.angstroms}"
   ]
  },
  {
   "cell_type": "code",
   "execution_count": 4,
   "metadata": {
    "tags": []
   },
   "outputs": [],
   "source": [
    "upper_area = 0.0 * u.angstroms**2\n",
    "lower_area = 0.0 * u.angstroms**2\n",
    "\n",
    "for lipid in upper_composition:\n",
    "    upper_area += upper_composition[lipid]*surface_area[lipid]\n",
    "\n",
    "for lipid in lower_composition:\n",
    "    lower_area += lower_composition[lipid]*surface_area[lipid]"
   ]
  },
  {
   "cell_type": "code",
   "execution_count": 5,
   "metadata": {
    "tags": []
   },
   "outputs": [
    {
     "data": {
      "text/plain": [
       "Quantity(value=6830.0, unit=angstrom**2)"
      ]
     },
     "execution_count": 5,
     "metadata": {},
     "output_type": "execute_result"
    }
   ],
   "source": [
    "upper_area"
   ]
  },
  {
   "cell_type": "code",
   "execution_count": 6,
   "metadata": {
    "tags": []
   },
   "outputs": [
    {
     "data": {
      "text/plain": [
       "Quantity(value=6830.0, unit=angstrom**2)"
      ]
     },
     "execution_count": 6,
     "metadata": {},
     "output_type": "execute_result"
    }
   ],
   "source": [
    "lower_area"
   ]
  },
  {
   "cell_type": "code",
   "execution_count": 7,
   "metadata": {
    "tags": []
   },
   "outputs": [
    {
     "data": {
      "text/plain": [
       "True"
      ]
     },
     "execution_count": 7,
     "metadata": {},
     "output_type": "execute_result"
    }
   ],
   "source": [
    "abs(upper_area-lower_area)<30.0*u.angstroms**2"
   ]
  },
  {
   "cell_type": "code",
   "execution_count": 8,
   "metadata": {
    "tags": []
   },
   "outputs": [],
   "source": [
    "area = abs(upper_area+lower_area)/2.0"
   ]
  },
  {
   "cell_type": "code",
   "execution_count": 9,
   "metadata": {
    "tags": []
   },
   "outputs": [],
   "source": [
    "clearance_factor = 4.0/np.pi\n",
    "clearance_factor = 1.1"
   ]
  },
  {
   "cell_type": "code",
   "execution_count": 10,
   "metadata": {
    "tags": []
   },
   "outputs": [],
   "source": [
    "area=area*clearance_factor"
   ]
  },
  {
   "cell_type": "code",
   "execution_count": 11,
   "metadata": {
    "tags": []
   },
   "outputs": [],
   "source": [
    "length_x = np.sqrt(area)\n",
    "length_y = length_x"
   ]
  },
  {
   "cell_type": "code",
   "execution_count": 12,
   "metadata": {
    "tags": []
   },
   "outputs": [
    {
     "data": {
      "text/plain": [
       "Quantity(value=86.67756341753038, unit=angstrom)"
      ]
     },
     "execution_count": 12,
     "metadata": {},
     "output_type": "execute_result"
    }
   ],
   "source": [
    "length_x"
   ]
  },
  {
   "cell_type": "code",
   "execution_count": 13,
   "metadata": {
    "tags": []
   },
   "outputs": [
    {
     "data": {
      "text/plain": [
       "Quantity(value=86.67756341753038, unit=angstrom)"
      ]
     },
     "execution_count": 13,
     "metadata": {},
     "output_type": "execute_result"
    }
   ],
   "source": [
    "length_y"
   ]
  },
  {
   "cell_type": "code",
   "execution_count": 14,
   "metadata": {
    "tags": []
   },
   "outputs": [],
   "source": [
    "upper_n_lipids = np.sum(list(upper_composition.values()))\n",
    "lower_n_lipids = np.sum(list(upper_composition.values()))"
   ]
  },
  {
   "cell_type": "code",
   "execution_count": 15,
   "metadata": {
    "tags": []
   },
   "outputs": [
    {
     "data": {
      "text/plain": [
       "100"
      ]
     },
     "execution_count": 15,
     "metadata": {},
     "output_type": "execute_result"
    }
   ],
   "source": [
    "upper_n_lipids"
   ]
  },
  {
   "cell_type": "code",
   "execution_count": 16,
   "metadata": {
    "tags": []
   },
   "outputs": [
    {
     "data": {
      "text/plain": [
       "100"
      ]
     },
     "execution_count": 16,
     "metadata": {},
     "output_type": "execute_result"
    }
   ],
   "source": [
    "lower_n_lipids"
   ]
  },
  {
   "cell_type": "code",
   "execution_count": 17,
   "metadata": {
    "tags": []
   },
   "outputs": [],
   "source": [
    "composition = upper_composition\n",
    "\n",
    "discs_charge=[]*u.elementary_charge\n",
    "discs_sigma=[]*u.angstrom\n",
    "discs_epsilon=[]*u.kilocalories_per_mole\n",
    "\n",
    "for lipid_name in composition:\n",
    "    sigma = 0.89*(2*radius[lipid_name])\n",
    "    epsilon = 0.238*u.kilocalories_per_mole # argon\n",
    "    charge = 0.0*u.elementary_charge\n",
    "    for ii in range(composition[lipid_name]):\n",
    "        discs_charge.append(charge)\n",
    "        discs_sigma.append(sigma)\n",
    "        discs_epsilon.append(epsilon)\n",
    "\n",
    "n_discs = np.sum(list(composition.values()))\n",
    "        \n",
    "discs_positions = np.zeros([n_discs,3], dtype=float)*u.angstroms\n",
    "discs_positions[:,0] = np.random.uniform(0.0,length_x._value, n_discs)*u.angstroms\n",
    "discs_positions[:,1] = np.random.uniform(0.0,length_y._value, n_discs)*u.angstroms"
   ]
  },
  {
   "cell_type": "code",
   "execution_count": 20,
   "metadata": {
    "tags": []
   },
   "outputs": [],
   "source": [
    "# System\n",
    "system = mm.System()\n",
    "\n",
    "# Periodic box vectors.\n",
    "box = np.zeros([3,3], dtype=float)*u.angstrom\n",
    "box[0,0] = length_x\n",
    "box[1,1] = length_y\n",
    "box[2,2] = 8.0*max(discs_sigma)\n",
    "\n",
    "system.setDefaultPeriodicBoxVectors(box[0], box[1], box[2])\n",
    "\n",
    "nb = mm.NonbondedForce()\n",
    "nb.setNonbondedMethod(mm.NonbondedForce.CutoffPeriodic)\n",
    "nb.setCutoffDistance(3.0*max(discs_sigma))\n",
    "nb.setUseDispersionCorrection(True)\n",
    "\n",
    "for charge, sigma, epsilon in zip(discs_charge, discs_sigma, discs_epsilon):\n",
    "    system.addParticle(40.0*u.amu)\n",
    "    nb.addParticle(charge, sigma, epsilon)\n",
    "\n",
    "_ = system.addForce(nb)"
   ]
  },
  {
   "cell_type": "code",
   "execution_count": 23,
   "metadata": {
    "tags": []
   },
   "outputs": [
    {
     "ename": "ArgumentError",
     "evalue": "Error in molsysmt.structure.get_neighbors.get_neighbors due to the molecular_system argument with value [Quantity(value=array([[33.80840018, 31.07091393,  0.        ],\n       [26.47181374, 33.4730068 ,  0.        ],\n       [39.09048245, 54.07424653,  0.        ],\n       [29.9240277 ,  4.55612047,  0.        ],\n       [56.77724812, 25.50834625,  0.        ],\n       [ 7.91451732,  2.9081148 ,  0.        ],\n       [78.49375902, 71.61918255,  0.        ],\n       [ 6.45463797,  4.07768531,  0.        ],\n       [ 6.81066249, 29.49757539,  0.        ],\n       [49.7051311 , 53.27977358,  0.        ],\n       [28.00613769, 58.61810789,  0.        ],\n       [44.34709447, 11.89003098,  0.        ],\n       [34.70372085, 18.28552699,  0.        ],\n       [74.78277141, 67.34449775,  0.        ],\n       [37.79890492, 60.39715855,  0.        ],\n       [27.70250708, 35.09102305,  0.        ],\n       [77.66693415, 29.48634996,  0.        ],\n       [26.53483681, 30.29764303,  0.        ],\n       [66.05662868, 82.41202567,  0.        ],\n       [ 5.82352434, 57.72863231,  0.        ],\n       [66.39270955, 32.8987698 ,  0.        ],\n       [78.65602525, 49.42080752,  0.        ],\n       [81.42102035, 42.06780211,  0.        ],\n       [12.10170641, 79.25207223,  0.        ],\n       [58.96182783, 69.07324215,  0.        ],\n       [83.57549735, 25.33473724,  0.        ],\n       [82.9156058 , 63.99644157,  0.        ],\n       [16.93252977, 26.33392401,  0.        ],\n       [69.22025125, 37.04809256,  0.        ],\n       [46.83023746, 78.35891581,  0.        ],\n       [ 4.36253166, 51.74072738,  0.        ],\n       [36.08850343, 21.89668474,  0.        ],\n       [61.45070745, 38.626359  ,  0.        ],\n       [76.62103808, 31.69380947,  0.        ],\n       [45.93225968, 30.72357203,  0.        ],\n       [21.15792993, 22.99454819,  0.        ],\n       [40.82599111, 85.46260111,  0.        ],\n       [61.05814644, 53.11059786,  0.        ],\n       [55.70871955, 34.52162776,  0.        ],\n       [53.29748748, 72.44072939,  0.        ],\n       [48.77526989, 82.77054624,  0.        ],\n       [41.18073906,  8.55534482,  0.        ],\n       [82.54768479, 14.82869304,  0.        ],\n       [12.60468753,  5.9936244 ,  0.        ],\n       [70.92418154,  6.95513409,  0.        ],\n       [ 6.06034282, 16.43738586,  0.        ],\n       [37.9075569 , 79.60955922,  0.        ],\n       [29.49738633, 85.10680436,  0.        ],\n       [34.48364363, 23.37720648,  0.        ],\n       [21.86835242, 61.66203728,  0.        ],\n       [80.61476154, 19.25408451,  0.        ],\n       [48.57577589, 68.16821134,  0.        ],\n       [36.59112481, 57.4977732 ,  0.        ],\n       [53.62311831, 25.81714814,  0.        ],\n       [74.39331031, 11.49022297,  0.        ],\n       [22.76439339, 75.49294043,  0.        ],\n       [70.71726   , 84.56845723,  0.        ],\n       [11.01926926, 86.36379613,  0.        ],\n       [73.60281688, 29.90033785,  0.        ],\n       [ 3.442108  , 73.06446084,  0.        ],\n       [69.79362128, 10.16862479,  0.        ],\n       [21.36270666, 53.09550844,  0.        ],\n       [25.03171444, 58.16339029,  0.        ],\n       [23.98567017, 23.88452762,  0.        ],\n       [27.88397644, 36.06648918,  0.        ],\n       [ 8.33665949, 30.469903  ,  0.        ],\n       [20.04622267, 13.28045274,  0.        ],\n       [51.30978141, 35.91826331,  0.        ],\n       [47.68596703,  1.29143205,  0.        ],\n       [54.92191433, 42.66770666,  0.        ],\n       [ 7.89176219,  3.97150988,  0.        ],\n       [45.05323071, 48.15162388,  0.        ],\n       [77.46025847, 74.6365162 ,  0.        ],\n       [51.12234581, 38.300436  ,  0.        ],\n       [32.55007022,  1.13243174,  0.        ],\n       [66.19588795, 45.49007599,  0.        ],\n       [59.08228337, 81.02180102,  0.        ],\n       [63.83818636, 39.09034949,  0.        ],\n       [32.05417337, 16.10171401,  0.        ],\n       [58.03473088,  2.25003908,  0.        ],\n       [69.36241712, 45.44757055,  0.        ],\n       [44.18325876, 79.74193389,  0.        ],\n       [76.74448961, 11.40576858,  0.        ],\n       [39.11071196, 23.13068735,  0.        ],\n       [31.56863789, 41.60243717,  0.        ],\n       [39.89491954, 67.56268103,  0.        ],\n       [59.0711209 , 36.09429783,  0.        ],\n       [80.62733938, 73.34562103,  0.        ],\n       [19.88472672, 65.780443  ,  0.        ],\n       [57.54438003, 66.15189546,  0.        ],\n       [81.97611195, 21.52319233,  0.        ],\n       [28.85227721, 34.32166808,  0.        ],\n       [15.13615316,  8.29784163,  0.        ],\n       [17.97670222, 69.16193736,  0.        ],\n       [72.33009208, 73.84048701,  0.        ],\n       [78.75494483, 51.21601934,  0.        ],\n       [46.75683985, 62.57902301,  0.        ],\n       [83.25852791, 30.7204233 ,  0.        ],\n       [86.61676129, 25.41898082,  0.        ],\n       [45.3697825 ,  6.77821577,  0.        ]]), unit=angstrom), Quantity(value=array([[86.67756342,  0.        ,  0.        ],\n       [ 0.        , 86.67756342,  0.        ],\n       [ 0.        ,  0.        , 66.3584    ]]), unit=angstrom)].Check  for more information. If you still need help, open a new issue in https://github.com/uibcdf/MolSysMT/issues.",
     "output_type": "error",
     "traceback": [
      "\u001b[0;31m---------------------------------------------------------------------------\u001b[0m",
      "\u001b[0;31mArgumentError\u001b[0m                             Traceback (most recent call last)",
      "Cell \u001b[0;32mIn[23], line 1\u001b[0m\n\u001b[0;32m----> 1\u001b[0m \u001b[43mmsm\u001b[49m\u001b[38;5;241;43m.\u001b[39;49m\u001b[43mstructure\u001b[49m\u001b[38;5;241;43m.\u001b[39;49m\u001b[43mget_neighbors\u001b[49m\u001b[43m(\u001b[49m\u001b[43m[\u001b[49m\u001b[43mdiscs_positions\u001b[49m\u001b[43m,\u001b[49m\u001b[43m \u001b[49m\u001b[43mbox\u001b[49m\u001b[43m]\u001b[49m\u001b[43m,\u001b[49m\u001b[43m \u001b[49m\u001b[43mn_neighbors\u001b[49m\u001b[38;5;241;43m=\u001b[39;49m\u001b[38;5;241;43m1\u001b[39;49m\u001b[43m)\u001b[49m\n",
      "File \u001b[0;32m~/MyMachine/locals/miniconda3/envs/OpenMembrane@dprada_3.9/lib/python3.9/site-packages/molsysmt/_private/digestion/digest.py:105\u001b[0m, in \u001b[0;36mdigest.<locals>.digestor.<locals>.wrapper\u001b[0;34m(*args, **kwargs)\u001b[0m\n\u001b[1;32m    102\u001b[0m     \u001b[38;5;28;01mpass\u001b[39;00m\n\u001b[1;32m    104\u001b[0m \u001b[38;5;28;01mfor\u001b[39;00m arg_name \u001b[38;5;129;01min\u001b[39;00m all_args:\n\u001b[0;32m--> 105\u001b[0m     \u001b[43mgut\u001b[49m\u001b[43m(\u001b[49m\u001b[43marg_name\u001b[49m\u001b[43m)\u001b[49m\n\u001b[1;32m    107\u001b[0m \u001b[38;5;28;01mfor\u001b[39;00m arg_name \u001b[38;5;129;01min\u001b[39;00m not_digested_args:\n\u001b[1;32m    108\u001b[0m     warnings\u001b[38;5;241m.\u001b[39mwarn(arg_name\u001b[38;5;241m+\u001b[39m\u001b[38;5;124m'\u001b[39m\u001b[38;5;124m from \u001b[39m\u001b[38;5;124m'\u001b[39m\u001b[38;5;241m+\u001b[39mcaller, NotDigestedArgumentWarning, stacklevel\u001b[38;5;241m=\u001b[39m\u001b[38;5;241m2\u001b[39m)\n",
      "File \u001b[0;32m~/MyMachine/locals/miniconda3/envs/OpenMembrane@dprada_3.9/lib/python3.9/site-packages/molsysmt/_private/digestion/digest.py:97\u001b[0m, in \u001b[0;36mdigest.<locals>.digestor.<locals>.wrapper.<locals>.gut\u001b[0;34m(arg_name)\u001b[0m\n\u001b[1;32m     95\u001b[0m         \u001b[38;5;28;01melse\u001b[39;00m:\n\u001b[1;32m     96\u001b[0m             parameters_dict[parameter] \u001b[38;5;241m=\u001b[39m \u001b[38;5;28;01mNone\u001b[39;00m\n\u001b[0;32m---> 97\u001b[0m     digested_args[arg_name] \u001b[38;5;241m=\u001b[39m \u001b[43mdigestion_functions\u001b[49m\u001b[43m[\u001b[49m\u001b[43marg_name\u001b[49m\u001b[43m]\u001b[49m\u001b[43m(\u001b[49m\u001b[43mall_args\u001b[49m\u001b[43m[\u001b[49m\u001b[43marg_name\u001b[49m\u001b[43m]\u001b[49m\u001b[43m,\u001b[49m\n\u001b[1;32m     98\u001b[0m \u001b[43m                                                  \u001b[49m\u001b[43mcaller\u001b[49m\u001b[38;5;241;43m=\u001b[39;49m\u001b[43mcaller\u001b[49m\u001b[43m,\u001b[49m\n\u001b[1;32m     99\u001b[0m \u001b[43m                                                  \u001b[49m\u001b[38;5;241;43m*\u001b[39;49m\u001b[38;5;241;43m*\u001b[39;49m\u001b[43mparameters_dict\u001b[49m\u001b[43m)\u001b[49m\n\u001b[1;32m    100\u001b[0m \u001b[38;5;28;01melse\u001b[39;00m:\n\u001b[1;32m    101\u001b[0m     not_digested_args[arg_name] \u001b[38;5;241m=\u001b[39m all_args[arg_name]\n",
      "File \u001b[0;32m~/MyMachine/locals/miniconda3/envs/OpenMembrane@dprada_3.9/lib/python3.9/site-packages/molsysmt/_private/digestion/argument/molecular_system.py:34\u001b[0m, in \u001b[0;36mdigest_molecular_system\u001b[0;34m(molecular_system, caller)\u001b[0m\n\u001b[1;32m     31\u001b[0m \u001b[38;5;28;01mif\u001b[39;00m is_a_molecular_system(molecular_system):\n\u001b[1;32m     32\u001b[0m     \u001b[38;5;28;01mreturn\u001b[39;00m molecular_system\n\u001b[0;32m---> 34\u001b[0m \u001b[38;5;28;01mraise\u001b[39;00m ArgumentError(\u001b[38;5;124m'\u001b[39m\u001b[38;5;124mmolecular_system\u001b[39m\u001b[38;5;124m'\u001b[39m, value\u001b[38;5;241m=\u001b[39mmolecular_system, caller\u001b[38;5;241m=\u001b[39mcaller, message\u001b[38;5;241m=\u001b[39m\u001b[38;5;28;01mNone\u001b[39;00m)\n",
      "\u001b[0;31mArgumentError\u001b[0m: Error in molsysmt.structure.get_neighbors.get_neighbors due to the molecular_system argument with value [Quantity(value=array([[33.80840018, 31.07091393,  0.        ],\n       [26.47181374, 33.4730068 ,  0.        ],\n       [39.09048245, 54.07424653,  0.        ],\n       [29.9240277 ,  4.55612047,  0.        ],\n       [56.77724812, 25.50834625,  0.        ],\n       [ 7.91451732,  2.9081148 ,  0.        ],\n       [78.49375902, 71.61918255,  0.        ],\n       [ 6.45463797,  4.07768531,  0.        ],\n       [ 6.81066249, 29.49757539,  0.        ],\n       [49.7051311 , 53.27977358,  0.        ],\n       [28.00613769, 58.61810789,  0.        ],\n       [44.34709447, 11.89003098,  0.        ],\n       [34.70372085, 18.28552699,  0.        ],\n       [74.78277141, 67.34449775,  0.        ],\n       [37.79890492, 60.39715855,  0.        ],\n       [27.70250708, 35.09102305,  0.        ],\n       [77.66693415, 29.48634996,  0.        ],\n       [26.53483681, 30.29764303,  0.        ],\n       [66.05662868, 82.41202567,  0.        ],\n       [ 5.82352434, 57.72863231,  0.        ],\n       [66.39270955, 32.8987698 ,  0.        ],\n       [78.65602525, 49.42080752,  0.        ],\n       [81.42102035, 42.06780211,  0.        ],\n       [12.10170641, 79.25207223,  0.        ],\n       [58.96182783, 69.07324215,  0.        ],\n       [83.57549735, 25.33473724,  0.        ],\n       [82.9156058 , 63.99644157,  0.        ],\n       [16.93252977, 26.33392401,  0.        ],\n       [69.22025125, 37.04809256,  0.        ],\n       [46.83023746, 78.35891581,  0.        ],\n       [ 4.36253166, 51.74072738,  0.        ],\n       [36.08850343, 21.89668474,  0.        ],\n       [61.45070745, 38.626359  ,  0.        ],\n       [76.62103808, 31.69380947,  0.        ],\n       [45.93225968, 30.72357203,  0.        ],\n       [21.15792993, 22.99454819,  0.        ],\n       [40.82599111, 85.46260111,  0.        ],\n       [61.05814644, 53.11059786,  0.        ],\n       [55.70871955, 34.52162776,  0.        ],\n       [53.29748748, 72.44072939,  0.        ],\n       [48.77526989, 82.77054624,  0.        ],\n       [41.18073906,  8.55534482,  0.        ],\n       [82.54768479, 14.82869304,  0.        ],\n       [12.60468753,  5.9936244 ,  0.        ],\n       [70.92418154,  6.95513409,  0.        ],\n       [ 6.06034282, 16.43738586,  0.        ],\n       [37.9075569 , 79.60955922,  0.        ],\n       [29.49738633, 85.10680436,  0.        ],\n       [34.48364363, 23.37720648,  0.        ],\n       [21.86835242, 61.66203728,  0.        ],\n       [80.61476154, 19.25408451,  0.        ],\n       [48.57577589, 68.16821134,  0.        ],\n       [36.59112481, 57.4977732 ,  0.        ],\n       [53.62311831, 25.81714814,  0.        ],\n       [74.39331031, 11.49022297,  0.        ],\n       [22.76439339, 75.49294043,  0.        ],\n       [70.71726   , 84.56845723,  0.        ],\n       [11.01926926, 86.36379613,  0.        ],\n       [73.60281688, 29.90033785,  0.        ],\n       [ 3.442108  , 73.06446084,  0.        ],\n       [69.79362128, 10.16862479,  0.        ],\n       [21.36270666, 53.09550844,  0.        ],\n       [25.03171444, 58.16339029,  0.        ],\n       [23.98567017, 23.88452762,  0.        ],\n       [27.88397644, 36.06648918,  0.        ],\n       [ 8.33665949, 30.469903  ,  0.        ],\n       [20.04622267, 13.28045274,  0.        ],\n       [51.30978141, 35.91826331,  0.        ],\n       [47.68596703,  1.29143205,  0.        ],\n       [54.92191433, 42.66770666,  0.        ],\n       [ 7.89176219,  3.97150988,  0.        ],\n       [45.05323071, 48.15162388,  0.        ],\n       [77.46025847, 74.6365162 ,  0.        ],\n       [51.12234581, 38.300436  ,  0.        ],\n       [32.55007022,  1.13243174,  0.        ],\n       [66.19588795, 45.49007599,  0.        ],\n       [59.08228337, 81.02180102,  0.        ],\n       [63.83818636, 39.09034949,  0.        ],\n       [32.05417337, 16.10171401,  0.        ],\n       [58.03473088,  2.25003908,  0.        ],\n       [69.36241712, 45.44757055,  0.        ],\n       [44.18325876, 79.74193389,  0.        ],\n       [76.74448961, 11.40576858,  0.        ],\n       [39.11071196, 23.13068735,  0.        ],\n       [31.56863789, 41.60243717,  0.        ],\n       [39.89491954, 67.56268103,  0.        ],\n       [59.0711209 , 36.09429783,  0.        ],\n       [80.62733938, 73.34562103,  0.        ],\n       [19.88472672, 65.780443  ,  0.        ],\n       [57.54438003, 66.15189546,  0.        ],\n       [81.97611195, 21.52319233,  0.        ],\n       [28.85227721, 34.32166808,  0.        ],\n       [15.13615316,  8.29784163,  0.        ],\n       [17.97670222, 69.16193736,  0.        ],\n       [72.33009208, 73.84048701,  0.        ],\n       [78.75494483, 51.21601934,  0.        ],\n       [46.75683985, 62.57902301,  0.        ],\n       [83.25852791, 30.7204233 ,  0.        ],\n       [86.61676129, 25.41898082,  0.        ],\n       [45.3697825 ,  6.77821577,  0.        ]]), unit=angstrom), Quantity(value=array([[86.67756342,  0.        ,  0.        ],\n       [ 0.        , 86.67756342,  0.        ],\n       [ 0.        ,  0.        , 66.3584    ]]), unit=angstrom)].Check  for more information. If you still need help, open a new issue in https://github.com/uibcdf/MolSysMT/issues."
     ]
    }
   ],
   "source": [
    "msm.structure.get_neighbors([discs_positions, box], n_neighbors=1)"
   ]
  },
  {
   "cell_type": "code",
   "execution_count": null,
   "metadata": {
    "tags": []
   },
   "outputs": [],
   "source": [
    "# Add a restrining potential to keep atoms in z=0\n",
    "energy_expression = 'k * (z^2)'\n",
    "force = mm.CustomExternalForce(energy_expression)\n",
    "force.addGlobalParameter('k', 500)\n",
    "for disc_index in range(n_discs):\n",
    "    force.addParticle(disc_index, [])\n",
    "_ = system.addForce(force)"
   ]
  },
  {
   "cell_type": "code",
   "execution_count": null,
   "metadata": {
    "tags": []
   },
   "outputs": [],
   "source": [
    "# Definición del estado termodinámico y el integrador.\n",
    "\n",
    "step_size = 0.0005*u.picoseconds\n",
    "temperature = 100*u.kelvin\n",
    "friction = 1.0/u.picosecond # Damping para la dinámica de Langevin\n",
    "\n",
    "integrator = mm.LangevinIntegrator(temperature, friction, step_size)"
   ]
  },
  {
   "cell_type": "code",
   "execution_count": null,
   "metadata": {
    "tags": []
   },
   "outputs": [],
   "source": [
    "# Creación de la plataforma.\n",
    "\n",
    "platform_name = 'CUDA'\n",
    "platform = mm.Platform.getPlatformByName(platform_name)"
   ]
  },
  {
   "cell_type": "code",
   "execution_count": null,
   "metadata": {
    "tags": []
   },
   "outputs": [],
   "source": [
    "# Creación del contexto.\n",
    "\n",
    "context = mm.Context(system, integrator, platform)"
   ]
  },
  {
   "cell_type": "code",
   "execution_count": null,
   "metadata": {
    "tags": []
   },
   "outputs": [],
   "source": [
    "# Condiciones iniciales\n",
    "\n",
    "initial_positions  = np.zeros([n_discs,3], dtype=float) * u.angstrom\n",
    "initial_positions[:,0] = np.random.uniform(0.0, length_x._value, n_discs) * u.angstrom\n",
    "initial_positions[:,1] = np.random.uniform(0.0, length_y._value, n_discs) * u.angstrom\n",
    "\n",
    "initial_velocities = np.zeros([n_discs, 3], np.float32) * u.angstroms/u.picoseconds\n",
    "\n",
    "context.setPositions(initial_positions)\n",
    "context.setVelocities(initial_velocities)"
   ]
  },
  {
   "cell_type": "code",
   "execution_count": null,
   "metadata": {
    "tags": []
   },
   "outputs": [],
   "source": [
    "f = context.getSystem().getForce(0)"
   ]
  },
  {
   "cell_type": "code",
   "execution_count": null,
   "metadata": {
    "tags": []
   },
   "outputs": [],
   "source": [
    "def get_max_force(f):\n",
    "    fmax = 0.0*f.unit**2\n",
    "    for aa in f:\n",
    "        mod2 = aa[0]**2+aa[1]**2+aa[2]**2\n",
    "        if fmax<mod2:\n",
    "            fmax=mod2\n",
    "    return np.sqrt(fmax)"
   ]
  },
  {
   "cell_type": "code",
   "execution_count": null,
   "metadata": {
    "tags": []
   },
   "outputs": [],
   "source": [
    "for factor in np.linspace(0.0, 1.0, num=500, endpoint=True):\n",
    "    \n",
    "    for index, charge, sigma, epsilon in zip(range(n_discs), discs_charge, discs_sigma, discs_epsilon):\n",
    "        f.setParticleParameters(index, charge, factor*sigma, epsilon)\n",
    "\n",
    "    f.updateParametersInContext(context)\n",
    "    state = context.getState(getEnergy=True, getForces=True)\n",
    "    Ep = state.getPotentialEnergy()\n",
    "    max_force = get_max_force(state.getForces())\n",
    "\n",
    "    \n",
    "    if max_force>100.0*max_force.unit:\n",
    "        \n",
    "        print('>>>', factor, Ep, max_force)\n",
    "        mm.LocalEnergyMinimizer.minimize(context)\n",
    "        \n",
    "        context.getIntegrator().step(50000)\n",
    "        \n",
    "        mm.LocalEnergyMinimizer.minimize(context)\n",
    "        state = context.getState(getEnergy=True, getForces=True)\n",
    "        Ep = state.getPotentialEnergy()\n",
    "        max_force = get_max_force(state.getForces())\n",
    "        print('  >', factor, Ep, max_force)\n",
    "\n",
    "context.getIntegrator().step(100000)\n",
    "mm.LocalEnergyMinimizer.minimize(context)"
   ]
  },
  {
   "cell_type": "code",
   "execution_count": null,
   "metadata": {
    "tags": []
   },
   "outputs": [],
   "source": [
    "positions = context.getState(getPositions=True).getPositions(asNumpy=True)"
   ]
  },
  {
   "cell_type": "code",
   "execution_count": null,
   "metadata": {
    "tags": []
   },
   "outputs": [],
   "source": [
    "def pbc_wrap(positions, length_x, length_y):\n",
    "    n = positions.shape[0]\n",
    "    for ii in range(n):\n",
    "        x = positions[ii,0]\n",
    "        lx = x/length_x\n",
    "        if (lx>=1.0) or (lx<0.0):\n",
    "            positions[ii,0]=x-np.floor(lx)*length_x\n",
    "        y = positions[ii,1]\n",
    "        ly = y/length_y\n",
    "        if (ly>=1.0) or (ly<0.0):\n",
    "            positions[ii,1]=y-np.floor(ly)*length_y\n",
    "    return positions"
   ]
  },
  {
   "cell_type": "code",
   "execution_count": null,
   "metadata": {
    "tags": []
   },
   "outputs": [],
   "source": [
    "positions = pbc_wrap(positions, length_x, length_y)"
   ]
  },
  {
   "cell_type": "code",
   "execution_count": null,
   "metadata": {
    "tags": []
   },
   "outputs": [],
   "source": [
    "plt.rcParams[\"figure.figsize\"] = (10,10)\n",
    "\n",
    "radius = 0.466\n",
    "\n",
    "ax=plt.gca()\n",
    "for ii in range(100):\n",
    "    ax.add_patch(plt.Circle(positions[ii,:]._value, radius= radius, color='k', fill=False))\n",
    "    \n",
    "plt.scatter(positions[:,0], positions[:,1], s=5, c='k')\n",
    "\n",
    "plt.axis('scaled')"
   ]
  },
  {
   "cell_type": "code",
   "execution_count": null,
   "metadata": {
    "tags": []
   },
   "outputs": [],
   "source": [
    "plt.scatter(range(n_discs), positions[:,2], s=5, c='k')"
   ]
  },
  {
   "cell_type": "code",
   "execution_count": null,
   "metadata": {},
   "outputs": [],
   "source": []
  }
 ],
 "metadata": {
  "kernelspec": {
   "display_name": "Python 3 (ipykernel)",
   "language": "python",
   "name": "python3"
  },
  "language_info": {
   "codemirror_mode": {
    "name": "ipython",
    "version": 3
   },
   "file_extension": ".py",
   "mimetype": "text/x-python",
   "name": "python",
   "nbconvert_exporter": "python",
   "pygments_lexer": "ipython3",
   "version": "3.9.16"
  }
 },
 "nbformat": 4,
 "nbformat_minor": 4
}
