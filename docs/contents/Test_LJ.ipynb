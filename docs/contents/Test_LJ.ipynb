{
 "cells": [
  {
   "cell_type": "code",
   "execution_count": null,
   "metadata": {},
   "outputs": [],
   "source": [
    "import numpy as np\n",
    "import matplotlib.pyplot as plt\n",
    "import sympy as sy\n",
    "import simtk.unit as unit\n",
    "from simtk import openmm as mm\n",
    "from simtk.openmm import app\n",
    "import skopt as skopt\n",
    "from tqdm import tqdm"
   ]
  },
  {
   "cell_type": "markdown",
   "metadata": {},
   "source": [
    "# A Lennard-Jones Fluid"
   ]
  },
  {
   "cell_type": "markdown",
   "metadata": {},
   "source": [
    "## The Lennard-Jones potential"
   ]
  },
  {
   "cell_type": "markdown",
   "metadata": {},
   "source": [
    "The Lennard-Jones (LJ) potential between two particles is defined by the following equation, where $x$ is the distance between the particles, and $\\sigma$ and $\\epsilon$ are two parameters of the potential:\n",
    "    \n",
    "\\begin{equation}\n",
    "V(x) = 4 \\epsilon \\left[ \\left( \\frac{\\sigma}{x} \\right)^{12} - \\left( \\frac{\\sigma}{x} \\right)^6 \\right]\n",
    "\\end{equation}"
   ]
  },
  {
   "cell_type": "markdown",
   "metadata": {},
   "source": [
    "Lets see the shape of this function:"
   ]
  },
  {
   "cell_type": "code",
   "execution_count": null,
   "metadata": {},
   "outputs": [],
   "source": [
    "def LJ (x, sigma, epsilon):\n",
    "    \n",
    "    t = sigma/x\n",
    "    t6 = t**6\n",
    "    t12 = t6**2\n",
    "    \n",
    "    return 4.0*epsilon*(t12-t6)"
   ]
  },
  {
   "cell_type": "code",
   "execution_count": null,
   "metadata": {},
   "outputs": [],
   "source": [
    "sigma = 2.0 * unit.angstrom\n",
    "epsilon = 1.0 * unit.kilocalories_per_mole\n",
    "\n",
    "xlim_figure = [0.01, 6.0]\n",
    "ylim_figure = [-2.0, 10.0]\n",
    "\n",
    "x = np.linspace(xlim_figure[0], xlim_figure[1], 100, True) * unit.angstrom\n",
    "plt.plot(x, LJ(x, sigma, epsilon))\n",
    "plt.xlim(xlim_figure)\n",
    "plt.ylim(ylim_figure)\n",
    "plt.xlabel('x [{}]'.format(x.unit.get_symbol()))\n",
    "plt.ylabel('V [{}]'.format(epsilon.unit.get_symbol()))\n",
    "plt.show()"
   ]
  },
  {
   "cell_type": "markdown",
   "metadata": {},
   "source": [
    "The way the LJ potential is built, the $\\sigma$ and $\\epsilon$ parameters have a straightforward interpretation. The cut with $y=0$ is located in $x=\\sigma$:"
   ]
  },
  {
   "cell_type": "code",
   "execution_count": null,
   "metadata": {},
   "outputs": [],
   "source": [
    "sigma = 2.0 * unit.angstrom\n",
    "epsilon = 1.0 * unit.kilocalories_per_mole\n",
    "\n",
    "xlim_figure = [0.01, 6.0]\n",
    "ylim_figure = [-2.0, 10.0]\n",
    "\n",
    "x = np.linspace(xlim_figure[0], xlim_figure[1], 100, True) * unit.angstrom\n",
    "plt.plot(x, LJ(x, sigma, epsilon))\n",
    "plt.hlines(0, xlim_figure[0], xlim_figure[1], linestyles='dotted', color='gray')\n",
    "plt.vlines(sigma._value, ylim_figure[0], ylim_figure[1], linestyles='dashed', color='red')\n",
    "plt.text(sigma._value+0.02*xlim_figure[1], 0.7*ylim_figure[1], '$\\sigma$', fontsize=14)\n",
    "plt.xlim(xlim_figure)\n",
    "plt.ylim(ylim_figure)\n",
    "plt.xlabel('x [{}]'.format(x.unit.get_symbol()))\n",
    "plt.ylabel('V [{}]'.format(epsilon.unit.get_symbol()))\n",
    "plt.show()"
   ]
  },
  {
   "cell_type": "markdown",
   "metadata": {},
   "source": [
    "And $\\epsilon$ is the depth of the minimum measured from $y=0$:"
   ]
  },
  {
   "cell_type": "code",
   "execution_count": null,
   "metadata": {},
   "outputs": [],
   "source": [
    "sigma = 2.0 * unit.angstrom\n",
    "epsilon = 1.0 * unit.kilocalories_per_mole\n",
    "\n",
    "xlim_figure = [0.01, 6.0]\n",
    "ylim_figure = [-2.0, 10.0]\n",
    "\n",
    "x = np.linspace(xlim_figure[0], xlim_figure[1], 100, True) * unit.angstrom\n",
    "plt.plot(x, LJ(x, sigma, epsilon))\n",
    "plt.hlines(0, xlim_figure[0], xlim_figure[1], linestyles='dotted', color='gray')\n",
    "plt.hlines(-epsilon._value, xlim_figure[0], xlim_figure[1], linestyles='dashed', color='red')\n",
    "plt.annotate(s='', xy=(1.0,0.0), xytext=(1.0,-epsilon._value), arrowprops=dict(arrowstyle='<->'))\n",
    "plt.text(1.0+0.02*xlim_figure[1], -0.7*epsilon._value, '$\\epsilon$', fontsize=14)\n",
    "plt.xlim(xlim_figure)\n",
    "plt.ylim(ylim_figure)\n",
    "plt.xlabel('x [{}]'.format(x.unit.get_symbol()))\n",
    "plt.ylabel('V [{}]'.format(epsilon.unit.get_symbol()))\n",
    "plt.show()"
   ]
  },
  {
   "cell_type": "markdown",
   "metadata": {},
   "source": [
    "Notice that the LJ potential has physical meaning when $\\epsilon>0$ and $\\sigma>0$ only. Actually, the potential vanishes whether $\\epsilon=0$ or $\\sigma=0$."
   ]
  },
  {
   "cell_type": "code",
   "execution_count": null,
   "metadata": {},
   "outputs": [],
   "source": [
    "sigma = 0.0 * unit.angstrom\n",
    "epsilon = 1.0 * unit.kilocalories_per_mole\n",
    "\n",
    "xlim_figure = [0.01, 6.0]\n",
    "ylim_figure = [-2.0, 10.0]\n",
    "\n",
    "x = np.linspace(xlim_figure[0], xlim_figure[1], 100, True) * unit.angstrom\n",
    "plt.plot(x, LJ(x, sigma, epsilon))\n",
    "plt.xlim(xlim_figure)\n",
    "plt.ylim(ylim_figure)\n",
    "plt.xlabel('x [{}]'.format(x.unit.get_symbol()))\n",
    "plt.ylabel('V [{}]'.format(epsilon.unit.get_symbol()))\n",
    "plt.show()"
   ]
  },
  {
   "cell_type": "markdown",
   "metadata": {},
   "source": [
    "### The Lennard Jones minimum and the size of the particles"
   ]
  },
  {
   "cell_type": "markdown",
   "metadata": {},
   "source": [
    "The LJ potential has a single minimum located in $x_{min}$. Lets equal to $0$ the first derivative of the potential to find the value of $x_{min}$:"
   ]
  },
  {
   "cell_type": "code",
   "execution_count": null,
   "metadata": {},
   "outputs": [],
   "source": [
    "x, sigma, epsilon = sy.symbols('x sigma epsilon', real=True, positive=True)\n",
    "V = 4.0*epsilon*((sigma/x)**12-(sigma/x)**6)\n",
    "gradV = sy.diff(V,x)\n",
    "roots=sy.solve(gradV, x)\n",
    "x_min = roots[0]"
   ]
  },
  {
   "cell_type": "code",
   "execution_count": null,
   "metadata": {},
   "outputs": [],
   "source": [
    "x_min"
   ]
  },
  {
   "cell_type": "markdown",
   "metadata": {},
   "source": [
    "The minimum is then located in:\n",
    "\n",
    "\\begin{equation}\n",
    "x_{min} = 2^{1/6} \\sigma\n",
    "\\end{equation}\n",
    "\n",
    "where the potential takes the value:\n",
    "\n",
    "\\begin{equation}\n",
    "V(x_{min}) = -\\epsilon\n",
    "\\end{equation}"
   ]
  },
  {
   "cell_type": "code",
   "execution_count": null,
   "metadata": {},
   "outputs": [],
   "source": [
    "sigma = 2.0 * unit.angstrom\n",
    "epsilon = 1.0 * unit.kilocalories_per_mole\n",
    "\n",
    "x_min = 2**(1/6)*sigma\n",
    "y_min = -epsilon\n",
    "\n",
    "xlim_figure = [x_min._value-0.4, x_min._value+0.4]\n",
    "ylim_figure = [y_min._value-0.1, y_min._value+0.5]\n",
    "\n",
    "x = np.linspace(xlim_figure[0], xlim_figure[1], 100, True) * unit.angstroms\n",
    "plt.plot(x, LJ(x, sigma, epsilon))\n",
    "plt.hlines(y_min._value, xlim_figure[0], xlim_figure[1], linestyles='dashed', color='gray')\n",
    "plt.vlines(x_min._value, ylim_figure[0], ylim_figure[1], linestyles='dashed', color='gray')\n",
    "plt.xlim(xlim_figure)\n",
    "plt.ylim(ylim_figure)\n",
    "plt.xlabel('x [{}]'.format(x.unit.get_symbol()))\n",
    "plt.ylabel('V [{}]'.format(epsilon.unit.get_symbol()))\n",
    "plt.show()"
   ]
  },
  {
   "cell_type": "markdown",
   "metadata": {},
   "source": [
    "This way two particles in the equilibrium position will be placed at a $2^{1/6} \\sigma$ distance. The potential is thereby modeling two \"soft spheres\" atracting each other very lightly. Their radii, given that both particles are equal, are equal to $r$:\n",
    "\n",
    "\\begin{equation}\n",
    "r = \\frac{1}{2} x_{min} = 2^{-5/6} \\sigma\n",
    "\\end{equation}"
   ]
  },
  {
   "cell_type": "markdown",
   "metadata": {},
   "source": [
    "And we say these spheres are \"soft\" because their volume is not limited by a hard-wall potential, they can penetrate each other suffering a not infinite repulsive force."
   ]
  },
  {
   "cell_type": "markdown",
   "metadata": {},
   "source": [
    "### Time period of the small harmonic oscillations around the minimum"
   ]
  },
  {
   "cell_type": "markdown",
   "metadata": {},
   "source": [
    "If we want to perform a molecular simulation of this two particles we should wonder how big the integrator timestep must be. To answer this question we can study the harmonic approximation around the minimum. Lets calculate the time period, $\\tau$, of a small harmonic oscillation around the minimum:"
   ]
  },
  {
   "cell_type": "code",
   "execution_count": null,
   "metadata": {},
   "outputs": [],
   "source": [
    "x, sigma, epsilon = sy.symbols('x sigma epsilon', real=True, positive=True)\n",
    "V = 4.0*epsilon*((sigma/x)**12-(sigma/x)**6)\n",
    "gradV = sy.diff(V,x)\n",
    "grad2V = sy.diff(V,x,x)\n",
    "\n",
    "x_min = sy.solve(gradV,x)[0]\n",
    "k_harm = grad2V.subs(x, x_min)"
   ]
  },
  {
   "cell_type": "code",
   "execution_count": null,
   "metadata": {},
   "outputs": [],
   "source": [
    "k_harm"
   ]
  },
  {
   "cell_type": "markdown",
   "metadata": {},
   "source": [
    "The harmonic constant of the second degree Taylor polynomial of the LJ potential at $x=x_{min}$ is then:\n",
    "\n",
    "\\begin{equation}\n",
    "k_{harm} = 36·2^{2/3} \\frac{\\epsilon}{\\sigma^2}\n",
    "\\end{equation}"
   ]
  },
  {
   "cell_type": "markdown",
   "metadata": {},
   "source": [
    "The oscillation period of a particle with $m$ mass in an harmonic potential defined by $\\frac{1}{2} k x²$ is:\n",
    "\n",
    "\\begin{equation}\n",
    "\\tau = 2 \\pi \\sqrt{ \\frac{m}{k}}\n",
    "\\end{equation}\n",
    "\n",
    "As such, the period of the small harmonic oscillations around the LJ minimum of particle with $m$ mass is:\n",
    "\n",
    "\\begin{equation}\n",
    "\\tau = 2 \\pi \\sqrt{ \\frac{m}{k_{harm}}} = \\frac{\\pi}{3·2^{1/3}} \\sqrt{\\frac{m\\sigma^2}{\\epsilon}}\n",
    "\\end{equation}"
   ]
  },
  {
   "cell_type": "markdown",
   "metadata": {},
   "source": [
    "With the mass and parameters taking values of amus, angstroms and kilocalories per mole, the time period is in the order of:"
   ]
  },
  {
   "cell_type": "code",
   "execution_count": null,
   "metadata": {},
   "outputs": [],
   "source": [
    "mass = 50.0 * unit.amu\n",
    "sigma = 2.0 * unit.angstrom\n",
    "epsilon = 1.0 * unit.kilocalories_per_mole\n",
    "\n",
    "k = 36 * 2**(2/3) * epsilon/sigma**2\n",
    "\n",
    "tau = 2*np.pi * np.sqrt(mass/k)\n",
    "\n",
    "print(tau)"
   ]
  },
  {
   "cell_type": "markdown",
   "metadata": {},
   "source": [
    "But, is this characteristic time a good threshold for a LJ potential? If the oscillations around the minimum are not small enough, the harmonic potential of the second degree term of the taylor expansion is easily overcome by the sharp left branch of the LJ potential:"
   ]
  },
  {
   "cell_type": "code",
   "execution_count": null,
   "metadata": {},
   "outputs": [],
   "source": [
    "sigma = 2.0 * unit.angstrom\n",
    "epsilon = 1.0 * unit.kilocalories_per_mole\n",
    "\n",
    "k = 36 * 2**(2/3) * epsilon/sigma**2\n",
    "\n",
    "x_min = 2**(1/6)*sigma\n",
    "y_min = -epsilon\n",
    "\n",
    "xlim_figure = [x_min._value-0.2, x_min._value+0.2]\n",
    "ylim_figure = [y_min._value-0.1, y_min._value+0.6]\n",
    "\n",
    "x = np.linspace(xlim_figure[0], xlim_figure[1], 100, True) * unit.angstroms\n",
    "plt.plot(x, LJ(x, sigma, epsilon))\n",
    "plt.plot(x, 0.5*k*(x-x_min)**2+y_min)\n",
    "plt.hlines(y_min._value, xlim_figure[0], xlim_figure[1], linestyles='dashed', color='gray')\n",
    "plt.vlines(x_min._value, ylim_figure[0], ylim_figure[1], linestyles='dashed', color='gray')\n",
    "plt.xlim(xlim_figure)\n",
    "plt.ylim(ylim_figure)\n",
    "plt.xlabel('x [{}]'.format(x.unit.get_symbol()))\n",
    "plt.ylabel('V [{}]'.format(epsilon.unit.get_symbol()))\n",
    "plt.show()"
   ]
  },
  {
   "cell_type": "markdown",
   "metadata": {},
   "source": [
    "Let's imagine the following situation. Let a particle be in the harmonic potential at temperature of 300K. Will the particle be more constrained in space than in the well of the LJ potential? Will the particle feel the harmonic potential softer or sharper than the LJ? Lets make some numbers to evaluate if the oscillation time period of the harmonic approximation can be a good time threshold for the integration timestep of a molecular dynamics of the LJ potential.\n",
    "\n",
    "The standard deviation of an harmonic oscillation with the shape $\\frac{1}{2}k x^2$ in contact with a stochastic thermal bath can be computed as:\n",
    "\n",
    "\\begin{equation}\n",
    "\\beta = \\frac{1}{k_{\\rm B} T} \n",
    "\\end{equation}\n",
    "\n",
    "\\begin{equation}\n",
    "Z_x = \\int_{-\\infty}^{\\infty} {\\rm e}^{- \\beta \\frac{1}{2}k x^2} = \\sqrt{\\frac{2 \\pi}{\\beta k}}\n",
    "\\end{equation}\n",
    "\n",
    "\\begin{equation}\n",
    "\\left< x \\right> = \\frac{1}{Z_x} \\int_{-\\infty}^{\\infty} x {\\rm e}^{-\\beta \\frac{1}{2}k x^2} = 0\n",
    "\\end{equation}\n",
    "\n",
    "\\begin{equation}\n",
    "\\left< x^2 \\right> = \\frac{1}{Z_x} \\int_{-\\infty}^{\\infty} x^{2} {\\rm e}^{-\\beta \\frac{1}{2}k x^2} = \\frac{1}{Z_x}  \\sqrt{\\frac{2 \\pi}{\\beta³ k^3}} = \\frac{1}{\\beta k}\n",
    "\\end{equation}\n",
    "\n",
    "\n",
    "\\begin{equation}\n",
    "{\\rm std} = \\left( \\left< x^2 \\right> -\\left< x \\right>^2 \\right)^{1/2} = \\sqrt{ \\frac{k_{\\rm B}T}{k} }\n",
    "\\end{equation}\n",
    "\n",
    "\n",
    "This way, in the case of the harmonic potential obtained as the second degree term of the Taylor expansion around the LJ minimum:"
   ]
  },
  {
   "cell_type": "code",
   "execution_count": null,
   "metadata": {},
   "outputs": [],
   "source": [
    "mass = 50.0 * unit.amu\n",
    "sigma = 2.0 * unit.angstrom\n",
    "epsilon = 1.0 * unit.kilocalories_per_mole\n",
    "temperature = 300 * unit.kelvin\n",
    "kB = unit.BOLTZMANN_CONSTANT_kB * unit.AVOGADRO_CONSTANT_NA\n",
    "\n",
    "k = 36 * 2**(2/3) * epsilon/sigma**2\n",
    "std = np.sqrt(kB*temperature/k)\n",
    "\n",
    "x_min = 2**(1/6)*sigma\n",
    "y_min = -epsilon\n",
    "\n",
    "xlim_figure = [x_min._value-0.4, x_min._value+0.4]\n",
    "ylim_figure = [y_min._value-0.1, y_min._value+0.6]\n",
    "\n",
    "x = np.linspace(xlim_figure[0], xlim_figure[1], 100, True) * unit.angstroms\n",
    "plt.plot(x, LJ(x, sigma, epsilon))\n",
    "plt.plot(x, 0.5*k*(x-x_min)**2+y_min)\n",
    "plt.hlines(y_min._value, xlim_figure[0], xlim_figure[1], linestyles='dashed', color='gray')\n",
    "plt.vlines(x_min._value, ylim_figure[0], ylim_figure[1], linestyles='dashed', color='gray')\n",
    "plt.axvspan(x_min._value - std._value, x_min._value + std._value, alpha=0.2, color='red')\n",
    "plt.annotate(s='', xy=(x_min._value, y_min._value - 0.5*(y_min._value-ylim_figure[0])),\n",
    "             xytext=(x_min._value-std._value, y_min._value - 0.5*(y_min._value-ylim_figure[0])),\n",
    "             arrowprops=dict(arrowstyle='<->'))\n",
    "plt.text(x_min._value-0.6*std._value, y_min._value - 0.4*(y_min._value-ylim_figure[0]), '$std$', fontsize=14)\n",
    "plt.xlim(xlim_figure)\n",
    "plt.ylim(ylim_figure)\n",
    "plt.xlabel('x [{}]'.format(x.unit.get_symbol()))\n",
    "plt.ylabel('V [{}]'.format(epsilon.unit.get_symbol()))\n",
    "plt.show()"
   ]
  },
  {
   "cell_type": "markdown",
   "metadata": {},
   "source": [
    "The harmonic potential is too soft as approximation. Its oscillation time used as threshold to choose the integration timestep can yield to numeric problems. Let's try with a stiffer potential, let's double the harmonic constant:"
   ]
  },
  {
   "cell_type": "code",
   "execution_count": null,
   "metadata": {},
   "outputs": [],
   "source": [
    "mass = 50.0 * unit.amu\n",
    "sigma = 2.0 * unit.angstrom\n",
    "epsilon = 1.0 * unit.kilocalories_per_mole\n",
    "temperature = 300 * unit.kelvin\n",
    "kB = unit.BOLTZMANN_CONSTANT_kB * unit.AVOGADRO_CONSTANT_NA\n",
    "\n",
    "k = 36 * 2**(2/3) * epsilon/sigma**2\n",
    "std = np.sqrt(kB*temperature/k)\n",
    "\n",
    "x_min = 2**(1/6)*sigma\n",
    "y_min = -epsilon\n",
    "\n",
    "xlim_figure = [x_min._value-0.4, x_min._value+0.4]\n",
    "ylim_figure = [y_min._value-0.1, y_min._value+0.6]\n",
    "\n",
    "x = np.linspace(xlim_figure[0], xlim_figure[1], 100, True) * unit.angstroms\n",
    "plt.plot(x, LJ(x, sigma, epsilon))\n",
    "plt.plot(x, 0.5*k*(x-x_min)**2+y_min)\n",
    "plt.plot(x, k*(x-x_min)**2+y_min, label='2k_{harm}')\n",
    "plt.hlines(y_min._value, xlim_figure[0], xlim_figure[1], linestyles='dashed', color='gray')\n",
    "plt.vlines(x_min._value, ylim_figure[0], ylim_figure[1], linestyles='dashed', color='gray')\n",
    "plt.axvspan(x_min._value - std._value, x_min._value + std._value, alpha=0.2, color='red')\n",
    "plt.annotate(s='', xy=(x_min._value, y_min._value - 0.5*(y_min._value-ylim_figure[0])),\n",
    "             xytext=(x_min._value-std._value, y_min._value - 0.5*(y_min._value-ylim_figure[0])),\n",
    "             arrowprops=dict(arrowstyle='<->'))\n",
    "plt.text(x_min._value-0.6*std._value, y_min._value - 0.4*(y_min._value-ylim_figure[0]), '$std$', fontsize=14)\n",
    "plt.xlim(xlim_figure)\n",
    "plt.ylim(ylim_figure)\n",
    "plt.xlabel('x [{}]'.format(x.unit.get_symbol()))\n",
    "plt.ylabel('V [{}]'.format(epsilon.unit.get_symbol()))\n",
    "plt.show()"
   ]
  },
  {
   "cell_type": "markdown",
   "metadata": {},
   "source": [
    "Lets take then, as reference, an harmonic potential with constant equal to $2k_{harm}$ could be a better idea. Lets compute then the new time threshold to choose the integration timestep:\n",
    "\n",
    "\\begin{equation}\n",
    "\\tau = 2 \\pi \\sqrt{ \\frac{m}{2k_{harm}}} = \\frac{\\pi}{3·2^{5/6}} \\sqrt{\\frac{m\\sigma^2}{\\epsilon}}\n",
    "\\end{equation}"
   ]
  },
  {
   "cell_type": "code",
   "execution_count": null,
   "metadata": {},
   "outputs": [],
   "source": [
    "mass = 50.0 * unit.amu\n",
    "sigma = 2.0 * unit.angstrom\n",
    "epsilon = 1.0 * unit.kilocalories_per_mole\n",
    "\n",
    "k = 36 * 2**(2/3) * epsilon/sigma**2\n",
    "\n",
    "tau = 2*np.pi * np.sqrt(mass/(2*k))\n",
    "\n",
    "print(tau)"
   ]
  },
  {
   "cell_type": "markdown",
   "metadata": {},
   "source": [
    "It is an accepted rule of thumb that the integration timestep must be as large as $\\tau / 10$, being $\\tau$ the oscillation time period of the fastest possible vibration mode. So finally, in this case the integration time step should not be longer than:"
   ]
  },
  {
   "cell_type": "code",
   "execution_count": null,
   "metadata": {},
   "outputs": [],
   "source": [
    "mass = 50.0 * unit.amu\n",
    "sigma = 2.0 * unit.angstrom\n",
    "epsilon = 1.0 * unit.kilocalories_per_mole\n",
    "\n",
    "k = 36 * 2**(2/3) * epsilon/sigma**2\n",
    "\n",
    "tau = 2*np.pi * np.sqrt(mass/(2*k))\n",
    "\n",
    "print(tau/10.0)"
   ]
  },
  {
   "cell_type": "markdown",
   "metadata": {},
   "source": [
    "For the case of a LJ potential modeling an Argon fluid:"
   ]
  },
  {
   "cell_type": "code",
   "execution_count": null,
   "metadata": {},
   "outputs": [],
   "source": [
    "mass = 39.9 * 2 * unit.amu # reduced mass of a pair of atoms\n",
    "sigma = 3.4 * unit.angstrom\n",
    "epsilon = 0.238 * unit.kilocalories_per_mole\n",
    "\n",
    "k = 36 * 2**(2/3) * epsilon/sigma**2\n",
    "\n",
    "tau = 2*np.pi * np.sqrt(mass/(2*k))\n",
    "\n",
    "print(tau/10.0)"
   ]
  },
  {
   "cell_type": "markdown",
   "metadata": {},
   "source": [
    "## Two Lennard-Jones atoms in vacuum\n",
    "\n",
    "### Ar-Ar"
   ]
  },
  {
   "cell_type": "code",
   "execution_count": null,
   "metadata": {},
   "outputs": [],
   "source": [
    "mass = 39.948 * unit.amu\n",
    "sigma = 3.404 * unit.angstroms\n",
    "epsilon = 0.238 * unit.kilocalories_per_mole\n",
    "charge = 0.0 * unit.elementary_charge"
   ]
  },
  {
   "cell_type": "code",
   "execution_count": null,
   "metadata": {},
   "outputs": [],
   "source": [
    "system = mm.System()\n",
    "\n",
    "non_bonded_force = mm.NonbondedForce()\n",
    "non_bonded_force.setNonbondedMethod(mm.NonbondedForce.NoCutoff)\n",
    "\n",
    "# First Ar atom\n",
    "system.addParticle(mass)\n",
    "non_bonded_force.addParticle(charge, sigma, epsilon)\n",
    "\n",
    "# Second Ar atom\n",
    "system.addParticle(mass)\n",
    "non_bonded_force.addParticle(charge, sigma, epsilon)\n",
    "\n",
    "system.addForce(non_bonded_force)\n",
    "\n",
    "integrator = mm.VerletIntegrator(2*unit.femtoseconds)\n",
    "platform = mm.Platform.getPlatformByName('CUDA')\n",
    "\n",
    "context = mm.Context(system, integrator, platform)"
   ]
  },
  {
   "cell_type": "code",
   "execution_count": null,
   "metadata": {},
   "outputs": [],
   "source": [
    "positions = np.zeros([2,3], float) * unit.angstroms\n",
    "\n",
    "x = np.linspace(1.0, 8.0, 200, endpoint=True) * unit.angstroms\n",
    "V = [] * unit.kilocalories_per_mole\n",
    "\n",
    "for xi in x:\n",
    "\n",
    "    positions[1,0] = xi\n",
    "    context.setPositions(positions)\n",
    "    state = context.getState(getEnergy=True)\n",
    "    potential_energy = state.getPotentialEnergy()\n",
    "    V.append(potential_energy)"
   ]
  },
  {
   "cell_type": "code",
   "execution_count": null,
   "metadata": {},
   "outputs": [],
   "source": [
    "V._value = np.array(V._value)\n",
    "\n",
    "xlim_figure = [0.01, 8.0]\n",
    "ylim_figure = [-2.0, 10.0]\n",
    "\n",
    "plt.plot(x, V, linewidth=2)\n",
    "plt.plot(x, LJ(x, sigma, epsilon), linestyle='--', color='red')\n",
    "plt.xlim(xlim_figure)\n",
    "plt.ylim(ylim_figure)\n",
    "plt.xlabel('x [{}]'.format(x.unit.get_symbol()))\n",
    "plt.ylabel('V [{}]'.format(epsilon.unit.get_symbol()))\n",
    "plt.show()"
   ]
  },
  {
   "cell_type": "code",
   "execution_count": null,
   "metadata": {},
   "outputs": [],
   "source": [
    "k = 36 * 2**(2/3) * epsilon/sigma**2\n",
    "reduced_mass = mass+mass\n",
    "\n",
    "tau = 2*np.pi * np.sqrt(reduced_mass/k)\n",
    "\n",
    "print(tau)"
   ]
  },
  {
   "cell_type": "code",
   "execution_count": null,
   "metadata": {},
   "outputs": [],
   "source": [
    "xlim_figure = [3.0, 5.0]\n",
    "ylim_figure = [-0.4, 0.2]\n",
    "\n",
    "x = np.linspace(xlim_figure[0], xlim_figure[1], 100, True) * unit.angstrom\n",
    "\n",
    "plt.plot(x, LJ(x, sigma, epsilon))\n",
    "plt.xlim(xlim_figure)\n",
    "plt.ylim(ylim_figure)\n",
    "plt.xlabel('x [{}]'.format(x.unit.get_symbol()))\n",
    "plt.ylabel('V [{}]'.format(epsilon.unit.get_symbol()))\n",
    "plt.show()"
   ]
  },
  {
   "cell_type": "code",
   "execution_count": null,
   "metadata": {},
   "outputs": [],
   "source": [
    "simulation_time = 4*unit.picoseconds\n",
    "saving_time = 0.01*unit.picoseconds\n",
    "integration_timestep = 2*unit.femtoseconds\n",
    "\n",
    "saving_steps = int(saving_time/integration_timestep)\n",
    "n_savings = int(simulation_time/saving_time)\n",
    "\n",
    "integrator=context.getIntegrator()\n",
    "integrator.setStepSize(integration_timestep)\n",
    "\n",
    "trajectory = []*unit.angstroms\n",
    "times = []*unit.picoseconds\n",
    "\n",
    "positions = np.zeros([2,3], float) * unit.angstroms\n",
    "positions[1,0] = 3.81 * unit.angstroms\n",
    "context.setPositions(positions)\n",
    "\n",
    "velocities = np.zeros([2,3], float) * unit.angstroms/unit.picoseconds\n",
    "context.setVelocities(velocities)\n",
    "\n",
    "context.setTime(0.0*unit.picoseconds)\n",
    "\n",
    "state = context.getState(getPositions=True)\n",
    "positions = state.getPositions(asNumpy=True)\n",
    "time = state.getTime()\n",
    "distance = positions[1,0] - positions[0,0]\n",
    "trajectory.append(distance)\n",
    "times.append(time)\n",
    "\n",
    "for _ in range(n_savings):\n",
    "    \n",
    "    integrator.step(saving_steps)\n",
    "    state = context.getState(getPositions=True)\n",
    "    positions = state.getPositions(asNumpy=True)\n",
    "    time = state.getTime()\n",
    "    distance = positions[1,0] - positions[0,0]\n",
    "    trajectory.append(distance)\n",
    "    times.append(time)"
   ]
  },
  {
   "cell_type": "code",
   "execution_count": null,
   "metadata": {},
   "outputs": [],
   "source": [
    "times._value = np.array(times._value)\n",
    "trajectory._value = np.array(trajectory._value)\n",
    "\n",
    "plt.plot(times, trajectory)"
   ]
  },
  {
   "cell_type": "markdown",
   "metadata": {},
   "source": [
    "### Ar-Xe molecular system"
   ]
  },
  {
   "cell_type": "code",
   "execution_count": null,
   "metadata": {},
   "outputs": [],
   "source": [
    "mass_Ar = 39.948 * unit.amu\n",
    "sigma_Ar = 3.404 * unit.angstroms\n",
    "epsilon_Ar = 0.238 * unit.kilocalories_per_mole\n",
    "charge_Ar = 0.0 * unit.elementary_charge\n",
    "\n",
    "mass_Xe = 131.293 * unit.amu\n",
    "sigma_Xe = 3.961 * unit.angstroms\n",
    "epsilon_Xe = 0.459 * unit.kilocalories_per_mole\n",
    "charge_Xe = 0.0 * unit.elementary_charge"
   ]
  },
  {
   "cell_type": "code",
   "execution_count": null,
   "metadata": {},
   "outputs": [],
   "source": [
    "system = mm.System()\n",
    "\n",
    "non_bonded_force = mm.NonbondedForce()\n",
    "non_bonded_force.setNonbondedMethod(mm.NonbondedForce.NoCutoff)\n",
    "\n",
    "# Ar atom\n",
    "system.addParticle(mass_Ar)\n",
    "non_bonded_force.addParticle(charge_Ar, sigma_Ar, epsilon_Ar)\n",
    "\n",
    "# Xe atom\n",
    "system.addParticle(mass_Xe)\n",
    "non_bonded_force.addParticle(charge_Xe, sigma_Xe, epsilon_Xe)\n",
    "\n",
    "system.addForce(non_bonded_force)\n",
    "\n",
    "integrator = mm.VerletIntegrator(2*unit.femtoseconds)\n",
    "platform = mm.Platform.getPlatformByName('CUDA')\n",
    "\n",
    "context = mm.Context(system, integrator, platform)"
   ]
  },
  {
   "cell_type": "code",
   "execution_count": null,
   "metadata": {},
   "outputs": [],
   "source": [
    "positions = np.zeros([2,3], float) * unit.angstroms\n",
    "\n",
    "x = np.linspace(1.0, 8.0, 200, endpoint=True) * unit.angstroms\n",
    "V = [] * unit.kilocalories_per_mole\n",
    "\n",
    "for xi in x:\n",
    "\n",
    "    positions[1,0] = xi\n",
    "    context.setPositions(positions)\n",
    "    state = context.getState(getEnergy=True)\n",
    "    potential_energy = state.getPotentialEnergy()\n",
    "    V.append(potential_energy)"
   ]
  },
  {
   "cell_type": "code",
   "execution_count": null,
   "metadata": {},
   "outputs": [],
   "source": [
    "sigma = (sigma_Ar+sigma_Xe)/2.0\n",
    "epsilon = np.sqrt(epsilon_Ar*epsilon_Xe)\n",
    "\n",
    "V._value = np.array(V._value)\n",
    "\n",
    "xlim_figure = [0.01, 8.0]\n",
    "ylim_figure = [-2.0, 10.0]\n",
    "\n",
    "plt.plot(x, V, linewidth=2)\n",
    "plt.plot(x, LJ(x, sigma, epsilon), linestyle='--', color='red')\n",
    "plt.xlim(xlim_figure)\n",
    "plt.ylim(ylim_figure)\n",
    "plt.xlabel('x [{}]'.format(x.unit.get_symbol()))\n",
    "plt.ylabel('V [{}]'.format(epsilon.unit.get_symbol()))\n",
    "plt.show()"
   ]
  },
  {
   "cell_type": "markdown",
   "metadata": {},
   "source": [
    "## Liquid Argon model"
   ]
  },
  {
   "cell_type": "code",
   "execution_count": null,
   "metadata": {},
   "outputs": [],
   "source": [
    "n_particles = 1000\n",
    "reduced_density = 0.75\n",
    "mass = 39.948 * unit.amu\n",
    "sigma = 3.404 * unit.angstroms\n",
    "epsilon = 0.238 * unit.kilocalories_per_mole\n",
    "charge = 0.0 * unit.elementary_charge\n",
    "\n",
    "temperature = 300.0 * unit.kelvin\n",
    "\n",
    "integration_timestep = 2.0 * unit.femtoseconds\n",
    "collisions_rate = 1.0 / unit.picoseconds\n",
    "\n",
    "equilibration_time = 1.0 * unit.nanoseconds\n",
    "\n",
    "production_time = 5.0 * unit.nanoseconds\n",
    "saving_time = 50.0 * unit.picoseconds"
   ]
  },
  {
   "cell_type": "markdown",
   "metadata": {},
   "source": [
    "The Van der Waals radius of Argon is 1.88 angstroms."
   ]
  },
  {
   "cell_type": "code",
   "execution_count": null,
   "metadata": {},
   "outputs": [],
   "source": [
    "radius = 2.0**(-5/6) * sigma\n",
    "print(radius)"
   ]
  },
  {
   "cell_type": "code",
   "execution_count": null,
   "metadata": {},
   "outputs": [],
   "source": [
    "volume_particles = n_particles * sigma**3\n",
    "volume = volume_particles/reduced_density\n",
    "l_box = volume**(1/3)"
   ]
  },
  {
   "cell_type": "code",
   "execution_count": null,
   "metadata": {},
   "outputs": [],
   "source": [
    "system = mm.System()"
   ]
  },
  {
   "cell_type": "code",
   "execution_count": null,
   "metadata": {},
   "outputs": [],
   "source": [
    "v1 = np.zeros(3) * unit.angstroms\n",
    "v2 = np.zeros(3) * unit.angstroms\n",
    "v3 = np.zeros(3) * unit.angstroms\n",
    "\n",
    "v1[0] = l_box\n",
    "v2[1] = l_box\n",
    "v3[2] = l_box\n",
    "\n",
    "system.setDefaultPeriodicBoxVectors(v1, v2, v3)"
   ]
  },
  {
   "cell_type": "code",
   "execution_count": null,
   "metadata": {},
   "outputs": [],
   "source": [
    "non_bonded_force = mm.NonbondedForce()\n",
    "non_bonded_force.setNonbondedMethod(mm.NonbondedForce.CutoffPeriodic)\n",
    "non_bonded_force.setCutoffDistance(3.0*sigma)\n",
    "non_bonded_force.setUseSwitchingFunction(True)\n",
    "non_bonded_force.setSwitchingDistance(2.0*sigma)\n",
    "non_bonded_force.setUseDispersionCorrection(True)"
   ]
  },
  {
   "cell_type": "code",
   "execution_count": null,
   "metadata": {},
   "outputs": [],
   "source": [
    "for _ in range(n_particles):\n",
    "    system.addParticle(mass)\n",
    "    non_bonded_force.addParticle(charge, sigma, epsilon)"
   ]
  },
  {
   "cell_type": "code",
   "execution_count": null,
   "metadata": {},
   "outputs": [],
   "source": [
    "_ = system.addForce(non_bonded_force)"
   ]
  },
  {
   "cell_type": "code",
   "execution_count": null,
   "metadata": {},
   "outputs": [],
   "source": [
    "space = skopt.Space([[0.0, l_box._value], [0.0, l_box._value], [0.0, l_box._value]])"
   ]
  },
  {
   "cell_type": "code",
   "execution_count": null,
   "metadata": {},
   "outputs": [],
   "source": [
    "integrator = mm.LangevinIntegrator(temperature, collisions_rate, integration_timestep)\n",
    "platform = mm.Platform.getPlatformByName('CUDA')\n",
    "context = mm.Context(system, integrator, platform)"
   ]
  },
  {
   "cell_type": "code",
   "execution_count": null,
   "metadata": {},
   "outputs": [],
   "source": [
    "grid_generator = skopt.sampler.Grid(use_full_layout=False)\n",
    "initial_positions = grid_generator.generate(space.dimensions, n_particles)\n",
    "initial_positions = np.array(initial_positions)*unit.angstroms"
   ]
  },
  {
   "cell_type": "code",
   "execution_count": null,
   "metadata": {},
   "outputs": [],
   "source": [
    "context.setPositions(initial_positions)\n",
    "context.setVelocitiesToTemperature(temperature)"
   ]
  },
  {
   "cell_type": "code",
   "execution_count": null,
   "metadata": {},
   "outputs": [],
   "source": [
    "state=context.getState(getEnergy=True)\n",
    "print(\"Before minimization: {}\".format(state.getPotentialEnergy()))\n",
    "mm.LocalEnergyMinimizer_minimize(context)\n",
    "state=context.getState(getEnergy=True)\n",
    "print(\"After minimization: {}\".format(state.getPotentialEnergy()))"
   ]
  },
  {
   "cell_type": "code",
   "execution_count": null,
   "metadata": {},
   "outputs": [],
   "source": [
    "equilibration_n_steps = int(equilibration_time/integration_timestep)\n",
    "integrator.step(equilibration_n_steps)\n",
    "context.setTime(0.0*unit.picoseconds)"
   ]
  },
  {
   "cell_type": "code",
   "execution_count": null,
   "metadata": {},
   "outputs": [],
   "source": [
    "production_n_steps = int(production_time/integration_timestep)\n",
    "saving_n_steps = int(saving_time/integration_timestep)\n",
    "n_saving_periods = int(production_n_steps/saving_n_steps)\n",
    "\n",
    "time = np.zeros([n_saving_periods]) * unit.nanoseconds\n",
    "trajectory = np.zeros([n_saving_periods, n_particles, 3]) * unit.angstroms\n",
    "potential_energy = np.zeros([n_saving_periods]) * unit.kilocalories_per_mole\n",
    "\n",
    "for ii in tqdm(range(n_saving_periods)):\n",
    "    integrator.step(saving_n_steps)\n",
    "    state = context.getState(getPositions=True, getEnergy=True)\n",
    "    time[ii] = state.getTime()\n",
    "    trajectory[ii,:,:] = state.getPositions(asNumpy=True)\n",
    "    potential_energy = state.getPotentialEnergy()"
   ]
  },
  {
   "cell_type": "code",
   "execution_count": null,
   "metadata": {},
   "outputs": [],
   "source": [
    "trajectory_mem = trajectory.size * trajectory.itemsize * unit.bytes\n",
    "print('Trajectory size: {} GB'.format(trajectory_mem._value/(1024*1024)))"
   ]
  },
  {
   "cell_type": "code",
   "execution_count": null,
   "metadata": {},
   "outputs": [],
   "source": [
    "l_box"
   ]
  },
  {
   "cell_type": "code",
   "execution_count": null,
   "metadata": {},
   "outputs": [],
   "source": [
    "trajectory.max()"
   ]
  },
  {
   "cell_type": "code",
   "execution_count": null,
   "metadata": {},
   "outputs": [],
   "source": [
    "- Calcular difusion de las partículas\n",
    "- Calcular RDF\n",
    "- Energy"
   ]
  }
 ],
 "metadata": {
  "kernelspec": {
   "display_name": "Python 3",
   "language": "python",
   "name": "python3"
  },
  "language_info": {
   "codemirror_mode": {
    "name": "ipython",
    "version": 3
   },
   "file_extension": ".py",
   "mimetype": "text/x-python",
   "name": "python",
   "nbconvert_exporter": "python",
   "pygments_lexer": "ipython3",
   "version": "3.7.7"
  }
 },
 "nbformat": 4,
 "nbformat_minor": 4
}
