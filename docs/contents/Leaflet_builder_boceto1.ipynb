{
 "cells": [
  {
   "cell_type": "code",
   "execution_count": 1,
   "metadata": {},
   "outputs": [],
   "source": [
    "%load_ext autoreload\n",
    "%autoreload 2"
   ]
  },
  {
   "cell_type": "code",
   "execution_count": 2,
   "metadata": {},
   "outputs": [],
   "source": [
    "import numpy as np\n",
    "import matplotlib.pyplot as plt"
   ]
  },
  {
   "cell_type": "markdown",
   "metadata": {},
   "source": [
    "# Hard spheres simulation (Lennard-Jones fluid)"
   ]
  },
  {
   "cell_type": "code",
   "execution_count": 3,
   "metadata": {},
   "outputs": [],
   "source": [
    "from simtk import openmm as mm\n",
    "from simtk import unit\n",
    "from simtk.openmm import app\n",
    "import numpy as np"
   ]
  },
  {
   "cell_type": "code",
   "execution_count": null,
   "metadata": {},
   "outputs": [],
   "source": [
    "n_particles = 10\n",
    "mass = 50.0 * unit.amu\n",
    "sigma = 3.4 * unit.angstroms\n",
    "epsilon = 0.238 * unit.kilocalories_per_mole\n",
    "charge = 0.0 * unit.elementary_charge"
   ]
  },
  {
   "cell_type": "code",
   "execution_count": null,
   "metadata": {},
   "outputs": [],
   "source": [
    "system = mm.System()\n",
    "\n",
    "nb = mm.NonbondedForce()\n",
    "nb.setNonbondedMethod(mm.NonbondedForce.CutoffPeriodic)\n",
    "nb.setCutoffDistance(2.0*sigma)\n",
    "nb.setUseDispersionCorrection(True) #\n",
    "\n",
    "for particle_index in range(n_particles):\n",
    "    system.addParticle(mass)\n",
    "    nb.addParticle(charge, sigma, epsilon)\n",
    "\n",
    "_ = system.addForce(nb)"
   ]
  },
  {
   "cell_type": "code",
   "execution_count": null,
   "metadata": {},
   "outputs": [],
   "source": [
    "force = mm.CustomExternalForce('k * (z^2)')\n",
    "force.addGlobalParameter('k', 100)\n",
    "for particle_index in range(n_particles):\n",
    "    force.addParticle(particle_index, [])\n",
    "\n",
    "_ = system.addForce(force)"
   ]
  },
  {
   "cell_type": "code",
   "execution_count": null,
   "metadata": {},
   "outputs": [],
   "source": [
    "box_x = 15.0 * unit.angstroms\n",
    "box_y = 15.0 * unit.angstroms\n",
    "box_z = 15.0 * unit.angstroms\n",
    "\n",
    "v1 = [box_x, 0.0*unit.angstroms, 0.0*unit.angstroms]\n",
    "v2 = [0.0*unit.angstroms, box_y, 0.0*unit.angstroms]\n",
    "v3 = [0.0*unit.angstroms, 0.0*unit.angstroms, box_z]\n",
    "\n",
    "system.setDefaultPeriodicBoxVectors(v1, v2, v3)"
   ]
  },
  {
   "cell_type": "code",
   "execution_count": null,
   "metadata": {},
   "outputs": [],
   "source": [
    "coordinates = np.zeros([n_particles, 3]) * unit.angstroms\n",
    "\n",
    "random_generator = np.random.default_rng()\n",
    "coordinates[:,0] = random_generator.uniform(0.0, 1.0, n_particles) * box_x\n",
    "coordinates[:,1] = random_generator.uniform(0.0, 1.0, n_particles) * box_y"
   ]
  },
  {
   "cell_type": "code",
   "execution_count": null,
   "metadata": {},
   "outputs": [],
   "source": [
    "integrator = mm.LangevinIntegrator(300 * unit.kelvin, 1.0 / unit.picosecond, 0.002 * unit.picoseconds)"
   ]
  },
  {
   "cell_type": "code",
   "execution_count": null,
   "metadata": {},
   "outputs": [],
   "source": [
    "platform = mm.Platform.getPlatformByName('CUDA')"
   ]
  },
  {
   "cell_type": "code",
   "execution_count": null,
   "metadata": {},
   "outputs": [],
   "source": [
    "context = mm.Context(system, integrator, platform)"
   ]
  },
  {
   "cell_type": "code",
   "execution_count": null,
   "metadata": {},
   "outputs": [],
   "source": [
    "context.setPositions(coordinates)\n",
    "context.setVelocitiesToTemperature(300*unit.kelvin)"
   ]
  },
  {
   "cell_type": "code",
   "execution_count": null,
   "metadata": {},
   "outputs": [],
   "source": [
    "state = context.getState(getEnergy=True)\n",
    "state.getPotentialEnergy()"
   ]
  },
  {
   "cell_type": "code",
   "execution_count": null,
   "metadata": {},
   "outputs": [],
   "source": [
    "for l in np.linspace(0.01, 1.0, num=100, endpoint=True):\n",
    "    \n",
    "    for ii in range(n_particles):\n",
    "        nb.setParticleParameters(ii, charge, sigma*l, epsilon)\n",
    "    \n",
    "    mm.LocalEnergyMinimizer_minimize(context)\n",
    "    integrator.step(1000)"
   ]
  },
  {
   "cell_type": "code",
   "execution_count": null,
   "metadata": {},
   "outputs": [],
   "source": [
    "state = context.getState(getEnergy=True)\n",
    "state.getPotentialEnergy()"
   ]
  },
  {
   "cell_type": "code",
   "execution_count": null,
   "metadata": {},
   "outputs": [],
   "source": [
    "state = context.getState(getPositions=True)\n",
    "coordinates = state.getPositions()\n",
    "print(coordinates)"
   ]
  },
  {
   "cell_type": "markdown",
   "metadata": {},
   "source": [
    "# Building a leaflet"
   ]
  },
  {
   "cell_type": "code",
   "execution_count": null,
   "metadata": {},
   "outputs": [],
   "source": [
    "import openmembrane as om"
   ]
  },
  {
   "cell_type": "code",
   "execution_count": null,
   "metadata": {},
   "outputs": [],
   "source": [
    "box_x = 2.7\n",
    "box_y = 2.7\n",
    "radii=[0.1, 0.1, 0.1, 0.1, 0.1, 0.1, 0.1, 0.1, 0.2, 0.2, 0.2, 0.2, 0.2, 0.3, 0.3, 0.3, 0.3, 0.4, 0.4, 0.4, 0.4, 0.4]"
   ]
  },
  {
   "cell_type": "code",
   "execution_count": null,
   "metadata": {},
   "outputs": [],
   "source": [
    "leaflet = om.build_leaflet(box_x, box_y, radii)"
   ]
  },
  {
   "cell_type": "code",
   "execution_count": null,
   "metadata": {},
   "outputs": [],
   "source": [
    "leaflet"
   ]
  },
  {
   "cell_type": "code",
   "execution_count": null,
   "metadata": {},
   "outputs": [],
   "source": [
    "fig, ax = plt.subplots()\n",
    "\n",
    "ax.scatter(leaflet[:,0], leaflet[:,1], s=1)\n",
    "ax.set_aspect('equal')\n",
    "ax.set_xlim([0.0, box_x])\n",
    "ax.set_ylim([0.0, box_y])\n",
    "\n",
    "for ii in range(len(radii)):\n",
    "    radius = radii[ii]\n",
    "    x = leaflet[ii,0]\n",
    "    y = leaflet[ii,1]\n",
    "    new_circle = plt.Circle((x, y), radius, fill=False)\n",
    "    ax.add_artist(new_circle)\n",
    "\n",
    "plt.show()"
   ]
  },
  {
   "cell_type": "code",
   "execution_count": null,
   "metadata": {},
   "outputs": [],
   "source": [
    "\n",
    "\n",
    "    \n",
    "    "
   ]
  },
  {
   "cell_type": "code",
   "execution_count": null,
   "metadata": {},
   "outputs": [],
   "source": []
  }
 ],
 "metadata": {
  "kernelspec": {
   "display_name": "Python 3",
   "language": "python",
   "name": "python3"
  },
  "language_info": {
   "codemirror_mode": {
    "name": "ipython",
    "version": 3
   },
   "file_extension": ".py",
   "mimetype": "text/x-python",
   "name": "python",
   "nbconvert_exporter": "python",
   "pygments_lexer": "ipython3",
   "version": "3.7.9"
  }
 },
 "nbformat": 4,
 "nbformat_minor": 4
}
