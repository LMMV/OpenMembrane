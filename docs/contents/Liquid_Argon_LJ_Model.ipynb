{
 "cells": [
  {
   "cell_type": "markdown",
   "metadata": {},
   "source": [
    "# Liquid Argon model"
   ]
  },
  {
   "cell_type": "code",
   "execution_count": 1,
   "metadata": {},
   "outputs": [],
   "source": [
    "import numpy as np\n",
    "import matplotlib.pyplot as plt\n",
    "import sympy as sy\n",
    "import simtk.unit as unit\n",
    "from simtk import openmm as mm\n",
    "from simtk.openmm import app\n",
    "import skopt as skopt\n",
    "from tqdm import tqdm"
   ]
  },
  {
   "cell_type": "code",
   "execution_count": 2,
   "metadata": {},
   "outputs": [],
   "source": [
    "n_particles = 1000\n",
    "reduced_density = 0.75\n",
    "mass = 39.948 * unit.amu\n",
    "sigma = 3.404 * unit.angstroms\n",
    "epsilon = 0.238 * unit.kilocalories_per_mole\n",
    "charge = 0.0 * unit.elementary_charge\n",
    "\n",
    "temperature = 300.0 * unit.kelvin\n",
    "\n",
    "integration_timestep = 2.0 * unit.femtoseconds\n",
    "collisions_rate = 1.0 / unit.picoseconds\n",
    "\n",
    "equilibration_time = 1.0 * unit.nanoseconds\n",
    "\n",
    "production_time = 5.0 * unit.nanoseconds\n",
    "saving_time = 50.0 * unit.picoseconds"
   ]
  },
  {
   "cell_type": "markdown",
   "metadata": {},
   "source": [
    "The Van der Waals radius of Argon is 1.88 angstroms."
   ]
  },
  {
   "cell_type": "code",
   "execution_count": 3,
   "metadata": {},
   "outputs": [
    {
     "name": "stdout",
     "output_type": "stream",
     "text": [
      "1.9104304062225528 A\n"
     ]
    }
   ],
   "source": [
    "radius = 2.0**(-5/6) * sigma\n",
    "print(radius)"
   ]
  },
  {
   "cell_type": "code",
   "execution_count": 4,
   "metadata": {},
   "outputs": [],
   "source": [
    "volume_particles = n_particles * sigma**3\n",
    "volume = volume_particles/reduced_density\n",
    "l_box = volume**(1/3)"
   ]
  },
  {
   "cell_type": "code",
   "execution_count": 5,
   "metadata": {},
   "outputs": [],
   "source": [
    "system = mm.System()"
   ]
  },
  {
   "cell_type": "code",
   "execution_count": 6,
   "metadata": {},
   "outputs": [],
   "source": [
    "v1 = np.zeros(3) * unit.angstroms\n",
    "v2 = np.zeros(3) * unit.angstroms\n",
    "v3 = np.zeros(3) * unit.angstroms\n",
    "\n",
    "v1[0] = l_box\n",
    "v2[1] = l_box\n",
    "v3[2] = l_box\n",
    "\n",
    "system.setDefaultPeriodicBoxVectors(v1, v2, v3)"
   ]
  },
  {
   "cell_type": "code",
   "execution_count": 7,
   "metadata": {},
   "outputs": [],
   "source": [
    "non_bonded_force = mm.NonbondedForce()\n",
    "non_bonded_force.setNonbondedMethod(mm.NonbondedForce.CutoffPeriodic)\n",
    "non_bonded_force.setCutoffDistance(3.0*sigma)\n",
    "non_bonded_force.setUseSwitchingFunction(True)\n",
    "non_bonded_force.setSwitchingDistance(2.0*sigma)\n",
    "non_bonded_force.setUseDispersionCorrection(True)"
   ]
  },
  {
   "cell_type": "code",
   "execution_count": 8,
   "metadata": {},
   "outputs": [],
   "source": [
    "for _ in range(n_particles):\n",
    "    system.addParticle(mass)\n",
    "    non_bonded_force.addParticle(charge, sigma, epsilon)"
   ]
  },
  {
   "cell_type": "code",
   "execution_count": 9,
   "metadata": {},
   "outputs": [],
   "source": [
    "_ = system.addForce(non_bonded_force)"
   ]
  },
  {
   "cell_type": "code",
   "execution_count": 10,
   "metadata": {},
   "outputs": [],
   "source": [
    "integrator = mm.LangevinIntegrator(temperature, collisions_rate, integration_timestep)\n",
    "platform = mm.Platform.getPlatformByName('CUDA')\n",
    "context = mm.Context(system, integrator, platform)"
   ]
  },
  {
   "cell_type": "code",
   "execution_count": 11,
   "metadata": {},
   "outputs": [],
   "source": [
    "space = skopt.Space([[0.0, l_box._value], [0.0, l_box._value], [0.0, l_box._value]])\n",
    "grid_generator = skopt.sampler.Grid(use_full_layout=False)\n",
    "initial_positions = grid_generator.generate(space.dimensions, n_particles)\n",
    "initial_positions = np.array(initial_positions)*unit.angstroms"
   ]
  },
  {
   "cell_type": "code",
   "execution_count": 12,
   "metadata": {},
   "outputs": [],
   "source": [
    "context.setPositions(initial_positions)\n",
    "context.setVelocitiesToTemperature(temperature)"
   ]
  },
  {
   "cell_type": "code",
   "execution_count": 13,
   "metadata": {},
   "outputs": [],
   "source": [
    "state = context.getState(getPositions=True)\n",
    "positions = state.getPositions(asNumpy=True)"
   ]
  },
  {
   "cell_type": "code",
   "execution_count": 14,
   "metadata": {},
   "outputs": [
    {
     "data": {
      "text/plain": [
       "Quantity(value=0.11353293061256409, unit=nanometer)"
      ]
     },
     "execution_count": 14,
     "metadata": {},
     "output_type": "execute_result"
    }
   ],
   "source": [
    "positions.min()"
   ]
  },
  {
   "cell_type": "code",
   "execution_count": null,
   "metadata": {},
   "outputs": [],
   "source": []
  },
  {
   "cell_type": "code",
   "execution_count": null,
   "metadata": {},
   "outputs": [],
   "source": [
    "state=context.getState(getEnergy=True)\n",
    "print(\"Before minimization: {}\".format(state.getPotentialEnergy()))\n",
    "mm.LocalEnergyMinimizer_minimize(context)\n",
    "state=context.getState(getEnergy=True)\n",
    "print(\"After minimization: {}\".format(state.getPotentialEnergy()))"
   ]
  },
  {
   "cell_type": "code",
   "execution_count": 15,
   "metadata": {},
   "outputs": [
    {
     "data": {
      "text/plain": [
       "Quantity(value=[Vec3(x=3.7465867850791024, y=0.0, z=0.0), Vec3(x=0.0, y=3.7465867850791024, z=0.0), Vec3(x=0.0, y=0.0, z=3.7465867850791024)], unit=nanometer)"
      ]
     },
     "execution_count": 15,
     "metadata": {},
     "output_type": "execute_result"
    }
   ],
   "source": [
    "state.getPeriodicBoxVectors()"
   ]
  },
  {
   "cell_type": "code",
   "execution_count": null,
   "metadata": {},
   "outputs": [],
   "source": [
    "state = context.getState(getPositions=True)\n",
    "positions = state.getPositions(asNumpy=True)"
   ]
  },
  {
   "cell_type": "code",
   "execution_count": null,
   "metadata": {},
   "outputs": [],
   "source": [
    "positions.max()"
   ]
  },
  {
   "cell_type": "code",
   "execution_count": null,
   "metadata": {},
   "outputs": [],
   "source": []
  }
 ],
 "metadata": {
  "kernelspec": {
   "display_name": "Python 3",
   "language": "python",
   "name": "python3"
  },
  "language_info": {
   "codemirror_mode": {
    "name": "ipython",
    "version": 3
   },
   "file_extension": ".py",
   "mimetype": "text/x-python",
   "name": "python",
   "nbconvert_exporter": "python",
   "pygments_lexer": "ipython3",
   "version": "3.7.7"
  }
 },
 "nbformat": 4,
 "nbformat_minor": 4
}
