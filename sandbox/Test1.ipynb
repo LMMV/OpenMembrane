{
 "cells": [
  {
   "cell_type": "code",
   "execution_count": 1,
   "id": "9db74df2-db79-495b-89f5-a67a832d8bf2",
   "metadata": {
    "tags": []
   },
   "outputs": [],
   "source": [
    "import openmembrane as omem"
   ]
  },
  {
   "cell_type": "code",
   "execution_count": 3,
   "id": "94f49c76-fa77-4ccb-b2c6-b36b1aa6f772",
   "metadata": {
    "tags": []
   },
   "outputs": [
    {
     "data": {
      "text/plain": [
       "10"
      ]
     },
     "execution_count": 3,
     "metadata": {},
     "output_type": "execute_result"
    }
   ],
   "source": [
    "omem.analysis.get_lineal_density(2,3)"
   ]
  },
  {
   "cell_type": "code",
   "execution_count": 4,
   "id": "45304e70-5213-4e6d-9cef-7120cdfcde9f",
   "metadata": {
    "tags": []
   },
   "outputs": [
    {
     "name": "stdout",
     "output_type": "stream",
     "text": [
      "Help on function get_lineal_density in module openmembrane.analysis.get_lineal_density:\n",
      "\n",
      "get_lineal_density(molecular_system, selection, axis=[0, 0, 1], bins=100, range=None, syntax='MolSysMT')\n",
      "\n"
     ]
    }
   ],
   "source": [
    "help(omem.analysis.get_lineal_density)"
   ]
  },
  {
   "cell_type": "code",
   "execution_count": null,
   "id": "a03958ac-97fe-48c9-a645-a7646f1b30ec",
   "metadata": {},
   "outputs": [],
   "source": []
  }
 ],
 "metadata": {
  "kernelspec": {
   "display_name": "Python 3 (ipykernel)",
   "language": "python",
   "name": "python3"
  },
  "language_info": {
   "codemirror_mode": {
    "name": "ipython",
    "version": 3
   },
   "file_extension": ".py",
   "mimetype": "text/x-python",
   "name": "python",
   "nbconvert_exporter": "python",
   "pygments_lexer": "ipython3",
   "version": "3.9.16"
  }
 },
 "nbformat": 4,
 "nbformat_minor": 5
}
