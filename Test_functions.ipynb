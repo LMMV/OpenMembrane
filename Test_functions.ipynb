{
 "cells": [
  {
   "cell_type": "code",
   "execution_count": 1,
   "metadata": {},
   "outputs": [],
   "source": [
    "import numpy as np\n",
    "import simtk.unit as unit"
   ]
  },
  {
   "cell_type": "code",
   "execution_count": 3,
   "metadata": {},
   "outputs": [],
   "source": [
    "coordinates_pseudospheres = np.array([[3.0, 8.5, 0.0],\n",
    "                              [5.4, 3.2, 0.0],\n",
    "                              [2.1, 7.4, 0.0],\n",
    "                              [7.3, 5.6, 0.0],\n",
    "                              [2.5, 2.5, 0.0],\n",
    "                              [1.2, 8.8, 0.0],\n",
    "                              [9.9, 10.0,0.0],\n",
    "                              [5.5, 1.1, 0.0]]) * unit.angstroms"
   ]
  },
  {
   "cell_type": "code",
   "execution_count": 4,
   "metadata": {},
   "outputs": [],
   "source": [
    "lipids = [\"POPC\", \"POPC\", \"DOPC\", \"DPPC\", \"DOPC\", \"POPC\", \"POPC\", \"DOPC\"]"
   ]
  },
  {
   "cell_type": "code",
   "execution_count": 7,
   "metadata": {},
   "outputs": [
    {
     "name": "stdout",
     "output_type": "stream",
     "text": [
      "POPC [3.  8.5 0. ] A\n",
      "POPC [5.4 3.2 0. ] A\n",
      "DOPC [2.1 7.4 0. ] A\n",
      "DPPC [7.3 5.6 0. ] A\n",
      "DOPC [2.5 2.5 0. ] A\n",
      "POPC [1.2 8.8 0. ] A\n",
      "POPC [ 9.9 10.   0. ] A\n",
      "DOPC [5.5 1.1 0. ] A\n"
     ]
    }
   ],
   "source": [
    "for ii,jj in zip(lipids, coordinates_pseudospheres):\n",
    "    print(ii,jj)"
   ]
  },
  {
   "cell_type": "code",
   "execution_count": null,
   "metadata": {},
   "outputs": [],
   "source": []
  }
 ],
 "metadata": {
  "kernelspec": {
   "display_name": "Python 3",
   "language": "python",
   "name": "python3"
  },
  "language_info": {
   "codemirror_mode": {
    "name": "ipython",
    "version": 3
   },
   "file_extension": ".py",
   "mimetype": "text/x-python",
   "name": "python",
   "nbconvert_exporter": "python",
   "pygments_lexer": "ipython3",
   "version": "3.7.7"
  }
 },
 "nbformat": 4,
 "nbformat_minor": 4
}
